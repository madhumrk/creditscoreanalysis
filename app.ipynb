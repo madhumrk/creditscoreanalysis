{
 "cells": [
  {
   "cell_type": "code",
   "execution_count": 7,
   "id": "da88935e",
   "metadata": {},
   "outputs": [
    {
     "ename": "SyntaxError",
     "evalue": "EOF while scanning triple-quoted string literal (1126744057.py, line 63)",
     "output_type": "error",
     "traceback": [
      "\u001b[1;36m  Input \u001b[1;32mIn [7]\u001b[1;36m\u001b[0m\n\u001b[1;33m    st.success('Your Customer is of level Bronze (Low)')\u001b[0m\n\u001b[1;37m                                                        \n^\u001b[0m\n\u001b[1;31mSyntaxError\u001b[0m\u001b[1;31m:\u001b[0m EOF while scanning triple-quoted string literal\n"
     ]
    }
   ],
   "source": [
    "import pickle\n",
    "import numpy as np\n",
    "import pandas as pd\n",
    "import streamlit as st\n",
    "from streamlit_option_menu import option_menu\n",
    "\n",
    "from visualization import *\n",
    "\n",
    "\n",
    "st.markdown(\"<h1 style='text-align: center; color: blue;'>Credit Score Analysis</h1><br>\",\n",
    "            unsafe_allow_html=True)\n",
    "\n",
    "\n",
    "main_options = option_menu(menu_title=None,\n",
    "                           options=['VISUALIZATION', 'PREDICTION'],\n",
    "                           default_index=0,\n",
    "                           orientation=\"horizontal\",\n",
    "                           icons=['map', 'steam'])\n",
    "\n",
    "if main_options == 'VISUALIZATION':\n",
    "    st.write(Recency, Frequency, Monetary)\n",
    "    \n",
    "    if main_options == 'What is RFM?':\n",
    "     st.write('''  The RFM (Recency, Frequency, Monetary) )\n",
    "\n",
    "if main_options == 'PREDICTION':\n",
    "    # loading gnb model\n",
    "    rfr_model = pickle.load(open('./rfr_model', 'rb'))\n",
    "\n",
    "    # header\n",
    "    st.write('### Give the RFM (Recency, Frequency, Monetary) values here')\n",
    "\n",
    "    # defining function\n",
    "\n",
    "    def user_input_features():\n",
    "        recency = st.number_input('Enter the Recency of a customer:')\n",
    "        frequency = st.number_input('Enter the Frequency of a customer:')\n",
    "        monetary = st.number_input('Enter the Monetary of a customer:')\n",
    "\n",
    "        data = {'Recency': recency,\n",
    "                'Frequency': frequency,\n",
    "                'Monetary': monetary,\n",
    "                }\n",
    "        features = pd.DataFrame(data, index=[0])\n",
    "        return features\n",
    "\n",
    "    df = user_input_features()\n",
    "\n",
    "    # prediction button\n",
    "    if st.button('Predict'):\n",
    "        # Apply model to make predictions\n",
    "        prediction = rfr_model.predict(df)\n",
    "\n",
    "        # # prediction\n",
    "        st.subheader('Prediction')\n",
    "        if prediction == 1:\n",
    "            st.success('Your Customer is of level Gold (High)')\n",
    "        elif prediction == 2:\n",
    "            st.success('Your Customer is of level Silver (Medium)')\n",
    "        elif prediction == 3:\n",
    "            st.success('Your Customer is of level Platinum (Medium)')\n",
    "        else:\n",
    "            st.success('Your Customer is of level Bronze (Low)')"
   ]
  },
  {
   "cell_type": "code",
   "execution_count": 4,
   "id": "53fc858f",
   "metadata": {},
   "outputs": [
    {
     "name": "stdout",
     "output_type": "stream",
     "text": [
      "Defaulting to user installation because normal site-packages is not writeableNote: you may need to restart the kernel to use updated packages.\n"
     ]
    },
    {
     "name": "stderr",
     "output_type": "stream",
     "text": [
      "ERROR: Could not find a version that satisfies the requirement visualizations (from versions: none)\n",
      "ERROR: No matching distribution found for visualizations\n"
     ]
    },
    {
     "name": "stdout",
     "output_type": "stream",
     "text": [
      "\n"
     ]
    }
   ],
   "source": [
    "pip install visualizations"
   ]
  },
  {
   "cell_type": "code",
   "execution_count": null,
   "id": "d5715831",
   "metadata": {},
   "outputs": [],
   "source": []
  }
 ],
 "metadata": {
  "kernelspec": {
   "display_name": "Python 3 (ipykernel)",
   "language": "python",
   "name": "python3"
  },
  "language_info": {
   "codemirror_mode": {
    "name": "ipython",
    "version": 3
   },
   "file_extension": ".py",
   "mimetype": "text/x-python",
   "name": "python",
   "nbconvert_exporter": "python",
   "pygments_lexer": "ipython3",
   "version": "3.9.12"
  }
 },
 "nbformat": 4,
 "nbformat_minor": 5
}
